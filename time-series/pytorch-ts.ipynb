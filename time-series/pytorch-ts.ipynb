{
 "cells": [
  {
   "cell_type": "code",
   "execution_count": 1,
   "metadata": {},
   "outputs": [
    {
     "name": "stderr",
     "output_type": "stream",
     "text": [
      "/home/jan_rathfelder/env_one/lib/python3.7/site-packages/gluonts/json.py:46: UserWarning: Using `json`-module for json-handling. Consider installing one of `orjson`, `ujson` to speed up serialization and deserialization.\n",
      "  \"Using `json`-module for json-handling. \"\n"
     ]
    }
   ],
   "source": [
    "import matplotlib.pyplot as plt\n",
    "import pandas as pd\n",
    "import torch\n",
    "\n",
    "from gluonts.dataset.common import ListDataset\n",
    "from gluonts.dataset.util import to_pandas\n",
    "\n",
    "from pts.model.deepar import DeepAREstimator\n",
    "from pts import Trainer\n",
    "from gluonts.evaluation.backtest import make_evaluation_predictions\n",
    "from gluonts.evaluation import Evaluator\n",
    "import json\n",
    "from itertools import islice\n",
    "from gluonts.dataset.field_names import FieldName\n",
    "import numpy as np"
   ]
  },
  {
   "cell_type": "code",
   "execution_count": 2,
   "metadata": {},
   "outputs": [],
   "source": [
    "# load df, select columns and set datetimeindex:\n",
    "\n",
    "df = pd.read_csv('esp-xrlt.csv')\n",
    "df['yyyymm'] = pd.to_datetime(df['yyyymm'])\n",
    "df = df[0:30].copy()\n",
    "\n",
    "cols = ['yyyymm', 'cei','amount']\n",
    "df_used = df[cols]\n",
    "df_used = df_used.set_index('yyyymm')\n",
    "y = 'amount'"
   ]
  },
  {
   "cell_type": "code",
   "execution_count": 3,
   "metadata": {},
   "outputs": [
    {
     "data": {
      "image/png": "[encoded data removed]",
      "text/plain": [
       "<Figure size 432x288 with 1 Axes>"
      ]
     },
     "metadata": {
      "needs_background": "light"
     },
     "output_type": "display_data"
    }
   ],
   "source": [
    "# plot data:\n",
    "\n",
    "df_used[['amount']].plot(linewidth=2)\n",
    "plt.grid(which='both')\n",
    "plt.show()"
   ]
  },
  {
   "cell_type": "markdown",
   "metadata": {},
   "source": [
    "### Training of simple time-series model"
   ]
  },
  {
   "cell_type": "code",
   "execution_count": 4,
   "metadata": {},
   "outputs": [
    {
     "data": {
      "text/plain": [
       "Timestamp('2021-05-26 00:00:00')"
      ]
     },
     "execution_count": 4,
     "metadata": {},
     "output_type": "execute_result"
    }
   ],
   "source": [
    "prediction_length = 6\n",
    "train_time = max(df_used.index)-pd.offsets.Day(prediction_length)\n",
    "train_time"
   ]
  },
  {
   "cell_type": "code",
   "execution_count": 5,
   "metadata": {},
   "outputs": [
    {
     "data": {
      "text/plain": [
       "[\"FieldName.ITEM_ID = 'item_id'\",\n",
       " \"FieldName.START = 'start'\",\n",
       " \"FieldName.TARGET = 'target'\",\n",
       " \"FieldName.FEAT_STATIC_CAT = 'feat_static_cat'\",\n",
       " \"FieldName.FEAT_STATIC_REAL = 'feat_static_real'\",\n",
       " \"FieldName.FEAT_DYNAMIC_CAT = 'feat_dynamic_cat'\",\n",
       " \"FieldName.FEAT_DYNAMIC_REAL = 'feat_dynamic_real'\",\n",
       " \"FieldName.PAST_FEAT_DYNAMIC_REAL = 'past_feat_dynamic_real'\",\n",
       " \"FieldName.FEAT_DYNAMIC_REAL_LEGACY = 'dynamic_feat'\",\n",
       " \"FieldName.FEAT_DYNAMIC = 'feat_dynamic'\",\n",
       " \"FieldName.PAST_FEAT_DYNAMIC = 'past_feat_dynamic'\",\n",
       " \"FieldName.FEAT_TIME = 'time_feat'\",\n",
       " \"FieldName.FEAT_CONST = 'feat_dynamic_const'\",\n",
       " \"FieldName.FEAT_AGE = 'feat_dynamic_age'\",\n",
       " \"FieldName.OBSERVED_VALUES = 'observed_values'\",\n",
       " \"FieldName.IS_PAD = 'is_pad'\",\n",
       " \"FieldName.FORECAST_START = 'forecast_start'\",\n",
       " \"FieldName.TARGET_DIM_INDICATOR = 'target_dimension_indicator'\"]"
      ]
     },
     "execution_count": 5,
     "metadata": {},
     "output_type": "execute_result"
    }
   ],
   "source": [
    "# returns basic set of variables possible in Gluon-ts:\n",
    "\n",
    "[f\"FieldName.{k} = '{v}'\" for k, v in FieldName.__dict__.items() if not k.startswith('_')]"
   ]
  },
  {
   "cell_type": "code",
   "execution_count": 6,
   "metadata": {},
   "outputs": [
    {
     "data": {
      "text/plain": [
       "(array([[15393.54245283, 13469.15550943, 15054.55662264, 15358.23315094,\n",
       "         15865.31228302, 15181.22515094, 16829.69239623, 14921.4245283 ,\n",
       "         16287.71624528, 17285.43650943, 16028.78998113, 16223.64130189,\n",
       "         17256.63173585, 15818.62775472, 20519.91654717, 17847.57769811,\n",
       "         16433.4440566 , 18239.79250943, 18837.91533962, 17020.553     ,\n",
       "         18751.09467925, 18800.84637736, 18177.11681132, 19276.35190566,\n",
       "         19111.09060377, 18130.25035849, 21221.76703774, 19965.57560377,\n",
       "         19714.33713208, 20441.44367925]]),\n",
       " array([[0.02092962, 0.02217826, 0.02383749, 0.02034644, 0.02805849,\n",
       "         0.02679568, 0.02722661, 0.01364447, 0.02558626, 0.03160065,\n",
       "         0.03012255, 0.01908954, 0.02072608, 0.02310678, 0.01441896,\n",
       "         0.01296704, 0.01495494, 0.01897017, 0.01502456, 0.00895671,\n",
       "         0.01739007, 0.01905047, 0.02070831, 0.01462251, 0.01151698,\n",
       "         0.01971061, 0.02346053, 0.02450893, 0.02329884, 0.02414243]]))"
      ]
     },
     "execution_count": 6,
     "metadata": {},
     "output_type": "execute_result"
    }
   ],
   "source": [
    "# define target and features\n",
    "\n",
    "target = np.array([df_used['amount']])\n",
    "feat_static_real = np.array([df_used['cei']])\n",
    "data_gluton = (target, feat_static_real)\n",
    "data_gluton"
   ]
  },
  {
   "cell_type": "code",
   "execution_count": 7,
   "metadata": {},
   "outputs": [],
   "source": [
    "# train dataset: cut the last window of length \"prediction_length\", add \"target\" and \"start\" fields\n",
    "\n",
    "freq='M'\n",
    "start = df_used.index[0]\n",
    "\n",
    "train_ds = ListDataset(\n",
    "    [{'target': x, 'start': start} for x in target[:, :-prediction_length]],\n",
    "    freq=freq\n",
    ")\n",
    "# test dataset: use the whole dataset, add \"target\" and \"start\" fields\n",
    "test_ds = ListDataset(\n",
    "    [{'target': x, 'start': start} for x in target],\n",
    "    freq=freq\n",
    ")"
   ]
  },
  {
   "cell_type": "code",
   "execution_count": 8,
   "metadata": {},
   "outputs": [
    {
     "name": "stdout",
     "output_type": "stream",
     "text": [
      "dict_keys(['target', 'start', 'source']) dict_keys(['target', 'start', 'source'])\n"
     ]
    },
    {
     "name": "stderr",
     "output_type": "stream",
     "text": [
      "/home/jan_rathfelder/env_one/lib/python3.7/site-packages/gluonts/dataset/common.py:323: FutureWarning: The 'freq' argument in Timestamp is deprecated and will be removed in a future version.\n",
      "  timestamp = pd.Timestamp(string, freq=freq)\n",
      "/home/jan_rathfelder/env_one/lib/python3.7/site-packages/gluonts/dataset/common.py:326: FutureWarning: Timestamp.freq is deprecated and will be removed in a future version\n",
      "  if isinstance(timestamp.freq, Tick):\n",
      "/home/jan_rathfelder/env_one/lib/python3.7/site-packages/gluonts/dataset/common.py:337: FutureWarning: Timestamp.freq is deprecated and will be removed in a future version\n",
      "  return timestamp.freq.rollforward(timestamp)\n"
     ]
    }
   ],
   "source": [
    "# returns test and train dict\n",
    "\n",
    "test_entry = next(iter(test_ds))\n",
    "train_entry = next(iter(train_ds))\n",
    "\n",
    "print(train_entry.keys(),\n",
    "      test_entry.keys())\n"
   ]
  },
  {
   "cell_type": "code",
   "execution_count": 9,
   "metadata": {},
   "outputs": [
    {
     "name": "stdout",
     "output_type": "stream",
     "text": [
      "{'target': array([15393.542 , 13469.155 , 15054.557 , 15358.233 , 15865.3125,\n",
      "       15181.226 , 16829.693 , 14921.425 , 16287.716 , 17285.436 ,\n",
      "       16028.79  , 16223.642 , 17256.63  , 15818.628 , 20519.916 ,\n",
      "       17847.578 , 16433.443 , 18239.793 , 18837.916 , 17020.553 ,\n",
      "       18751.094 , 18800.846 , 18177.117 , 19276.352 ], dtype=float32), 'start': Timestamp('2019-01-31 00:00:00', freq='M'), 'source': SourceContext(source='list_data', row=0)}\n",
      "\n",
      "{'target': array([15393.542 , 13469.155 , 15054.557 , 15358.233 , 15865.3125,\n",
      "       15181.226 , 16829.693 , 14921.425 , 16287.716 , 17285.436 ,\n",
      "       16028.79  , 16223.642 , 17256.63  , 15818.628 , 20519.916 ,\n",
      "       17847.578 , 16433.443 , 18239.793 , 18837.916 , 17020.553 ,\n",
      "       18751.094 , 18800.846 , 18177.117 , 19276.352 , 19111.09  ,\n",
      "       18130.25  , 21221.768 , 19965.576 , 19714.338 , 20441.443 ],\n",
      "      dtype=float32), 'start': Timestamp('2019-01-31 00:00:00', freq='M'), 'source': SourceContext(source='list_data', row=0)}\n"
     ]
    }
   ],
   "source": [
    "# Inspect how train and test dict look:\n",
    "\n",
    "print(train_entry)\n",
    "print()\n",
    "print(test_entry)"
   ]
  },
  {
   "cell_type": "code",
   "execution_count": 10,
   "metadata": {},
   "outputs": [
    {
     "name": "stderr",
     "output_type": "stream",
     "text": [
      "/home/jan_rathfelder/env_one/lib/python3.7/site-packages/gluonts/dataset/util.py:128: FutureWarning: Timestamp.freqstr is deprecated and will be removed in a future version.\n",
      "  freq = start.freqstr\n"
     ]
    },
    {
     "data": {
      "image/png": "[encoded data removed]",
      "text/plain": [
       "<Figure size 720x504 with 2 Axes>"
      ]
     },
     "metadata": {
      "needs_background": "light"
     },
     "output_type": "display_data"
    }
   ],
   "source": [
    "# plot train and testing data:\n",
    "\n",
    "test_series = to_pandas(test_entry)\n",
    "train_series = to_pandas(train_entry)\n",
    "\n",
    "fig, ax = plt.subplots(2, 1, sharex=True, sharey=True, figsize=(10, 7))\n",
    "\n",
    "train_series.plot(ax=ax[0])\n",
    "ax[0].grid(which=\"both\")\n",
    "ax[0].legend([\"train series\"], loc=\"upper left\")\n",
    "\n",
    "test_series.plot(ax=ax[1])\n",
    "ax[1].axvline(train_series.index[-1], color='r') # end of train dataset\n",
    "ax[1].grid(which=\"both\")\n",
    "ax[1].legend([\"test series\", \"end of train series\"], loc=\"upper left\")\n",
    "\n",
    "plt.show()"
   ]
  },
  {
   "cell_type": "code",
   "execution_count": 11,
   "metadata": {},
   "outputs": [
    {
     "data": {
      "application/vnd.jupyter.widget-view+json": {
       "model_id": "5c1ad6c952214785b4adbe085e977fc4",
       "version_major": 2,
       "version_minor": 0
      },
      "text/plain": [
       "  0%|          | 0/127 [00:00<?, ?it/s]"
      ]
     },
     "metadata": {},
     "output_type": "display_data"
    },
    {
     "name": "stderr",
     "output_type": "stream",
     "text": [
      "/home/jan_rathfelder/env_one/lib/python3.7/site-packages/gluonts/transform/split.py:36: FutureWarning: Timestamp.freq is deprecated and will be removed in a future version\n",
      "  return _shift_timestamp_helper(ts, ts.freq, offset)\n",
      "/home/jan_rathfelder/env_one/lib/python3.7/site-packages/gluonts/transform/feature.py:352: FutureWarning: Timestamp.freq is deprecated and will be removed in a future version\n",
      "  self._min_time_point, self._max_time_point, freq=start.freq\n"
     ]
    },
    {
     "data": {
      "application/vnd.jupyter.widget-view+json": {
       "model_id": "a824697029a749ffb8ed998fcd71c8a2",
       "version_major": 2,
       "version_minor": 0
      },
      "text/plain": [
       "  0%|          | 0/127 [00:00<?, ?it/s]"
      ]
     },
     "metadata": {},
     "output_type": "display_data"
    },
    {
     "data": {
      "application/vnd.jupyter.widget-view+json": {
       "model_id": "cdc5b386bdd44942b214639861496f60",
       "version_major": 2,
       "version_minor": 0
      },
      "text/plain": [
       "  0%|          | 0/127 [00:00<?, ?it/s]"
      ]
     },
     "metadata": {},
     "output_type": "display_data"
    },
    {
     "data": {
      "application/vnd.jupyter.widget-view+json": {
       "model_id": "ee430b5eec3d454f90bdc54644043ded",
       "version_major": 2,
       "version_minor": 0
      },
      "text/plain": [
       "  0%|          | 0/127 [00:00<?, ?it/s]"
      ]
     },
     "metadata": {},
     "output_type": "display_data"
    },
    {
     "data": {
      "application/vnd.jupyter.widget-view+json": {
       "model_id": "718ed521ef814109a7339033105934bc",
       "version_major": 2,
       "version_minor": 0
      },
      "text/plain": [
       "  0%|          | 0/127 [00:00<?, ?it/s]"
      ]
     },
     "metadata": {},
     "output_type": "display_data"
    },
    {
     "data": {
      "application/vnd.jupyter.widget-view+json": {
       "model_id": "286569b57d8a433c9f0a064337d7d752",
       "version_major": 2,
       "version_minor": 0
      },
      "text/plain": [
       "  0%|          | 0/127 [00:00<?, ?it/s]"
      ]
     },
     "metadata": {},
     "output_type": "display_data"
    },
    {
     "data": {
      "application/vnd.jupyter.widget-view+json": {
       "model_id": "e4c33268976b42c9b77bdec6d379cc91",
       "version_major": 2,
       "version_minor": 0
      },
      "text/plain": [
       "  0%|          | 0/127 [00:00<?, ?it/s]"
      ]
     },
     "metadata": {},
     "output_type": "display_data"
    },
    {
     "data": {
      "application/vnd.jupyter.widget-view+json": {
       "model_id": "ae4274b3e26045c78868123fe97de6c7",
       "version_major": 2,
       "version_minor": 0
      },
      "text/plain": [
       "  0%|          | 0/127 [00:00<?, ?it/s]"
      ]
     },
     "metadata": {},
     "output_type": "display_data"
    },
    {
     "data": {
      "application/vnd.jupyter.widget-view+json": {
       "model_id": "e3188c75e2204e79a0a9b88ace4d40ec",
       "version_major": 2,
       "version_minor": 0
      },
      "text/plain": [
       "  0%|          | 0/127 [00:00<?, ?it/s]"
      ]
     },
     "metadata": {},
     "output_type": "display_data"
    },
    {
     "data": {
      "application/vnd.jupyter.widget-view+json": {
       "model_id": "af6c6231354649b291538375b587ed69",
       "version_major": 2,
       "version_minor": 0
      },
      "text/plain": [
       "  0%|          | 0/127 [00:00<?, ?it/s]"
      ]
     },
     "metadata": {},
     "output_type": "display_data"
    }
   ],
   "source": [
    "# Train DeepAR model:\n",
    "device = torch.device(\"cuda\" if torch.cuda.is_available() else \"cpu\")\n",
    "\n",
    "estimator = DeepAREstimator(freq='M',\n",
    "                            prediction_length=prediction_length,\n",
    "                            input_size=12,\n",
    "                            trainer=Trainer(epochs=10,\n",
    "                                            learning_rate=1e-3,\n",
    "                                            num_batches_per_epoch=128,\n",
    "                                            batch_size=64,\n",
    "                                            device=device))\n",
    "\n",
    "predictor = estimator.train(training_data=train_ds, \n",
    "                            num_workers=0\n",
    "                           )"
   ]
  },
  {
   "cell_type": "code",
   "execution_count": 12,
   "metadata": {},
   "outputs": [
    {
     "name": "stderr",
     "output_type": "stream",
     "text": [
      "/home/jan_rathfelder/env_one/lib/python3.7/site-packages/gluonts/torch/batchify.py:24: UserWarning: Creating a tensor from a list of numpy.ndarrays is extremely slow. Please consider converting the list to a single numpy.ndarray with numpy.array() before converting to a tensor. (Triggered internally at  ../torch/csrc/utils/tensor_new.cpp:201.)\n",
      "  data = torch.tensor(data, device=device)\n",
      "Running evaluation: 100%|██████████| 1/1 [00:00<00:00,  6.32it/s]\n",
      "/home/jan_rathfelder/env_one/lib/python3.7/site-packages/gluonts/evaluation/_base.py:305: FutureWarning: Timestamp.freq is deprecated and will be removed in a future version\n",
      "  date_before_forecast = forecast.index[0] - forecast.index[0].freq\n"
     ]
    }
   ],
   "source": [
    "# make forecast and compare to observed values:\n",
    "\n",
    "forecast_it, ts_it = make_evaluation_predictions(\n",
    "    dataset=test_ds,  # test dataset\n",
    "    predictor=predictor,  # predictor\n",
    "    num_samples=50,  # number of sample paths we want for evaluation\n",
    ")\n",
    "\n",
    "forecasts = list(forecast_it)\n",
    "tss = list(ts_it)\n",
    "\n",
    "evaluator = Evaluator()\n",
    "agg_metrics, item_metrics = evaluator(iter(tss), iter(forecasts), num_series=len(test_ds))"
   ]
  },
  {
   "cell_type": "code",
   "execution_count": 13,
   "metadata": {},
   "outputs": [
    {
     "data": {
      "image/png": "[encoded data removed]",
      "text/plain": [
       "<Figure size 864x360 with 1 Axes>"
      ]
     },
     "metadata": {
      "needs_background": "light"
     },
     "output_type": "display_data"
    }
   ],
   "source": [
    "# plot forecast vs true:\n",
    "\n",
    "def plot_forecasts(tss, forecasts, past_length, num_plots):\n",
    "    for target, forecast in islice(zip(tss, forecasts), num_plots):\n",
    "        ax = target[-past_length:].plot(figsize=(12, 5), linewidth=2)\n",
    "        forecast.plot(color='g')\n",
    "        plt.grid(which='both')\n",
    "        plt.legend([\"observations\", \"median prediction\", \"90% confidence interval\", \"50% confidence interval\"])\n",
    "        plt.show()\n",
    "\n",
    "num_samples_used_for_ci = 100 # creates n predictions to generate intervall\n",
    "forecast_it, ts_it = make_evaluation_predictions(test_ds, predictor=predictor, num_samples=num_samples_used_for_ci)\n",
    "forecasts = list(forecast_it)\n",
    "tss = list(ts_it)\n",
    "plot_forecasts(tss, forecasts, past_length=150, num_plots=3)"
   ]
  },
  {
   "cell_type": "code",
   "execution_count": 14,
   "metadata": {},
   "outputs": [
    {
     "name": "stdout",
     "output_type": "stream",
     "text": [
      "{\n",
      "    \"MSE\": 1066479.3333333333,\n",
      "    \"abs_error\": 4523.59765625,\n",
      "    \"abs_target_sum\": 118584.46875,\n",
      "    \"abs_target_mean\": 19764.078125,\n",
      "    \"seasonal_error\": 2423.4283854166665,\n",
      "    \"MASE\": 0.3111018040579349,\n",
      "    \"MAPE\": 0.03698566307624181,\n",
      "    \"sMAPE\": 0.036258213222026825,\n",
      "    \"MSIS\": 9.69847941615942,\n",
      "    \"QuantileLoss[0.1]\": 5703.248046875,\n",
      "    \"Coverage[0.1]\": 0.6666666666666666,\n",
      "    \"QuantileLoss[0.2]\": 5541.24921875,\n",
      "    \"Coverage[0.2]\": 0.6666666666666666,\n",
      "    \"QuantileLoss[0.3]\": 5218.186328124999,\n",
      "    \"Coverage[0.3]\": 0.6666666666666666,\n",
      "    \"QuantileLoss[0.4]\": 4900.6171875,\n",
      "    \"Coverage[0.4]\": 0.6666666666666666,\n",
      "    \"QuantileLoss[0.5]\": 4523.59765625,\n",
      "    \"Coverage[0.5]\": 0.6666666666666666,\n",
      "    \"QuantileLoss[0.6]\": 4105.381249999999,\n",
      "    \"Coverage[0.6]\": 0.6666666666666666,\n",
      "    \"QuantileLoss[0.7]\": 3655.555859375,\n",
      "    \"Coverage[0.7]\": 0.6666666666666666,\n",
      "    \"QuantileLoss[0.8]\": 3111.84375,\n",
      "    \"Coverage[0.8]\": 0.6666666666666666,\n",
      "    \"QuantileLoss[0.9]\": 2551.34765625,\n",
      "    \"Coverage[0.9]\": 0.6666666666666666,\n",
      "    \"RMSE\": 1032.7048626463097,\n",
      "    \"NRMSE\": 0.052251607998858265,\n",
      "    \"ND\": 0.03814662833955648,\n",
      "    \"wQuantileLoss[0.1]\": 0.048094393026279,\n",
      "    \"wQuantileLoss[0.2]\": 0.04672828809000336,\n",
      "    \"wQuantileLoss[0.3]\": 0.04400396091604533,\n",
      "    \"wQuantileLoss[0.4]\": 0.04132596147840819,\n",
      "    \"wQuantileLoss[0.5]\": 0.03814662833955648,\n",
      "    \"wQuantileLoss[0.6]\": 0.03461988988334528,\n",
      "    \"wQuantileLoss[0.7]\": 0.030826598945951765,\n",
      "    \"wQuantileLoss[0.8]\": 0.02624157938052069,\n",
      "    \"wQuantileLoss[0.9]\": 0.021515023705412518,\n",
      "    \"mean_absolute_QuantileLoss\": 4367.891883680555,\n",
      "    \"mean_wQuantileLoss\": 0.03683359152950252,\n",
      "    \"MAE_Coverage\": 0.25555555555555554,\n",
      "    \"OWA\": NaN\n",
      "}\n"
     ]
    }
   ],
   "source": [
    "# print errors:\n",
    "print(json.dumps(agg_metrics, indent=4))"
   ]
  },
  {
   "cell_type": "markdown",
   "metadata": {},
   "source": [
    "### Training multivariate time-series model:"
   ]
  },
  {
   "cell_type": "code",
   "execution_count": 399,
   "metadata": {},
   "outputs": [],
   "source": [
    "# define target and features\n",
    "\n",
    "target = np.array([df_used['amount']])\n",
    "feat_dynamic_real = np.array([df_used['cei']])\n",
    "data_gluton = (target, feat_static_real)"
   ]
  },
  {
   "cell_type": "code",
   "execution_count": 400,
   "metadata": {},
   "outputs": [
    {
     "name": "stderr",
     "output_type": "stream",
     "text": [
      "/home/jan_rathfelder/env_one/lib/python3.7/site-packages/ipykernel_launcher.py:9: FutureWarning: The 'freq' argument in Timestamp is deprecated and will be removed in a future version.\n",
      "  if __name__ == '__main__':\n"
     ]
    }
   ],
   "source": [
    "# define the parameters of the dataset\n",
    "custom_ds_metadata = {\n",
    "    'num_series': 1,\n",
    "    'num_steps': len(data_gluton[0]),\n",
    "    'prediction_length': 8,\n",
    "    'freq': 'M',\n",
    "    'start': [\n",
    "        pd.Timestamp(df_used.index[0], freq='M')\n",
    "        for _ in range(df_used.shape[0])\n",
    "    ]\n",
    "}"
   ]
  },
  {
   "cell_type": "code",
   "execution_count": null,
   "metadata": {},
   "outputs": [],
   "source": [
    "# Define fields used\n",
    "# Here we define a dynamic_real value on top of the target\n",
    "train_ds = ListDataset(\n",
    "    [\n",
    "        {\n",
    "            FieldName.TARGET: target,\n",
    "            FieldName.START: start,\n",
    "            FieldName.FEAT_DYNAMIC_REAL: [fdr]\n",
    "            #FieldName.FEAT_STATIC_CAT: [fsc]\n",
    "        }\n",
    "        for (target, start, fdr) in zip(\n",
    "            target[:, :-custom_ds_metadata['prediction_length']],\n",
    "            custom_ds_metadata['start'],\n",
    "            feat_dynamic_real[:, :-custom_ds_metadata['prediction_length']]\n",
    "            #feat_static_cat\n",
    "        )\n",
    "    ],\n",
    "    freq=custom_ds_metadata['freq']\n",
    ")\n",
    "\n",
    "# test\n",
    "test_ds = ListDataset(\n",
    "    [\n",
    "        {\n",
    "            FieldName.TARGET: target,\n",
    "            FieldName.START: start,\n",
    "            FieldName.FEAT_DYNAMIC_REAL: [fdr]\n",
    "            #FieldName.FEAT_STATIC_CAT: [fsc]\n",
    "        }\n",
    "        for (target, start, fdr) in zip(\n",
    "            target,\n",
    "            custom_ds_metadata['start'],\n",
    "            feat_dynamic_real\n",
    "            #feat_static_cat\n",
    "            )\n",
    "    ],\n",
    "    freq=custom_ds_metadata['freq']\n",
    ")"
   ]
  },
  {
   "cell_type": "code",
   "execution_count": null,
   "metadata": {},
   "outputs": [],
   "source": [
    "# Returning train and test dict:\n",
    "\n",
    "train_entry = next(iter(train_ds))\n",
    "test_entry = next(iter(test_ds))\n",
    "\n",
    "print(test_entry.keys(), train_entry.keys())"
   ]
  },
  {
   "cell_type": "code",
   "execution_count": null,
   "metadata": {},
   "outputs": [],
   "source": [
    "# Return train dict:\n",
    "# Note that we have added an array \n",
    "# for feat_dynamic_real as feature\n",
    "# We need future values of this\n",
    "# to make predictions (!)\n",
    "\n",
    "test_entry"
   ]
  },
  {
   "cell_type": "code",
   "execution_count": 404,
   "metadata": {},
   "outputs": [],
   "source": [
    "from gluonts.transform import (\n",
    "    AddAgeFeature,\n",
    "    AddObservedValuesIndicator,\n",
    "    Chain,\n",
    "    ExpectedNumInstanceSampler,\n",
    "    InstanceSplitter,\n",
    "    SetFieldIfNotPresent,\n",
    ")"
   ]
  },
  {
   "cell_type": "code",
   "execution_count": 405,
   "metadata": {},
   "outputs": [],
   "source": [
    "def create_transformation(freq, context_length, prediction_length):\n",
    "    return Chain(\n",
    "        [\n",
    "            AddObservedValuesIndicator(\n",
    "                target_field=FieldName.TARGET,\n",
    "                output_field=FieldName.OBSERVED_VALUES,\n",
    "            ),\n",
    "            AddAgeFeature(\n",
    "                target_field=FieldName.TARGET,\n",
    "                output_field=FieldName.FEAT_AGE,\n",
    "                pred_length=prediction_length,\n",
    "                log_scale=True,\n",
    "            ),\n",
    "            InstanceSplitter(\n",
    "                target_field=FieldName.TARGET,\n",
    "                is_pad_field=FieldName.IS_PAD,\n",
    "                start_field=FieldName.START,\n",
    "                forecast_start_field=FieldName.FORECAST_START,\n",
    "                instance_sampler=ExpectedNumInstanceSampler(\n",
    "                    num_instances=1,\n",
    "                    min_future=prediction_length,\n",
    "                ),\n",
    "                past_length=context_length,\n",
    "                future_length=prediction_length,\n",
    "                time_series_fields=[\n",
    "                    FieldName.FEAT_AGE,\n",
    "                    FieldName.FEAT_DYNAMIC_REAL,\n",
    "                    FieldName.OBSERVED_VALUES,\n",
    "                ],\n",
    "            ),\n",
    "        ]\n",
    "    )"
   ]
  },
  {
   "cell_type": "code",
   "execution_count": 414,
   "metadata": {},
   "outputs": [],
   "source": [
    "\n",
    "transformation = create_transformation(\n",
    "    custom_ds_metadata['freq'],\n",
    "    2 * custom_ds_metadata['prediction_length'], # can be any appropriate value\n",
    "    custom_ds_metadata['prediction_length']\n",
    ")"
   ]
  },
  {
   "cell_type": "code",
   "execution_count": 415,
   "metadata": {},
   "outputs": [
    {
     "name": "stdout",
     "output_type": "stream",
     "text": [
      "<class 'generator'>\n"
     ]
    }
   ],
   "source": [
    "\n",
    "train_tf = transformation(iter(train_ds), is_train=True)\n",
    "\n",
    "print(type(train_tf))"
   ]
  },
  {
   "cell_type": "code",
   "execution_count": 416,
   "metadata": {},
   "outputs": [
    {
     "name": "stderr",
     "output_type": "stream",
     "text": [
      "/home/jan_rathfelder/env_one/lib/python3.7/site-packages/gluonts/transform/split.py:36: FutureWarning: Timestamp.freq is deprecated and will be removed in a future version\n",
      "  return _shift_timestamp_helper(ts, ts.freq, offset)\n"
     ]
    },
    {
     "data": {
      "text/plain": [
       "['start',\n",
       " 'source',\n",
       " 'past_feat_dynamic_age',\n",
       " 'future_feat_dynamic_age',\n",
       " 'past_feat_dynamic_real',\n",
       " 'future_feat_dynamic_real',\n",
       " 'past_observed_values',\n",
       " 'future_observed_values',\n",
       " 'past_target',\n",
       " 'future_target',\n",
       " 'past_is_pad',\n",
       " 'forecast_start']"
      ]
     },
     "execution_count": 416,
     "metadata": {},
     "output_type": "execute_result"
    }
   ],
   "source": [
    "train_tf_entry = next(iter(train_tf))\n",
    "[k for k in train_tf_entry.keys()]"
   ]
  },
  {
   "cell_type": "code",
   "execution_count": 417,
   "metadata": {},
   "outputs": [
    {
     "data": {
      "text/plain": [
       "{'start': Timestamp('2019-01-31 00:00:00', freq='M'),\n",
       " 'source': SourceContext(source='list_data', row=0),\n",
       " 'past_feat_dynamic_age': array([[0.        ],\n",
       "        [0.        ],\n",
       "        [0.        ],\n",
       "        [0.        ],\n",
       "        [0.        ],\n",
       "        [0.        ],\n",
       "        [0.        ],\n",
       "        [0.        ],\n",
       "        [0.        ],\n",
       "        [0.        ],\n",
       "        [0.        ],\n",
       "        [0.30103   ],\n",
       "        [0.47712123],\n",
       "        [0.60206   ],\n",
       "        [0.69897   ],\n",
       "        [0.7781513 ]], dtype=float32),\n",
       " 'future_feat_dynamic_age': array([[0.845098 ],\n",
       "        [0.90309  ],\n",
       "        [0.9542425],\n",
       "        [1.       ],\n",
       "        [1.0413927],\n",
       "        [1.0791812],\n",
       "        [1.1139433],\n",
       "        [1.146128 ]], dtype=float32),\n",
       " 'past_feat_dynamic_real': array([[0.        ],\n",
       "        [0.        ],\n",
       "        [0.        ],\n",
       "        [0.        ],\n",
       "        [0.        ],\n",
       "        [0.        ],\n",
       "        [0.        ],\n",
       "        [0.        ],\n",
       "        [0.        ],\n",
       "        [0.        ],\n",
       "        [0.        ],\n",
       "        [0.02092962],\n",
       "        [0.02217826],\n",
       "        [0.0238375 ],\n",
       "        [0.02034644],\n",
       "        [0.02805849]], dtype=float32),\n",
       " 'future_feat_dynamic_real': array([[0.02679568],\n",
       "        [0.02722661],\n",
       "        [0.01364447],\n",
       "        [0.02558626],\n",
       "        [0.03160065],\n",
       "        [0.03012255],\n",
       "        [0.01908953],\n",
       "        [0.02072608]], dtype=float32),\n",
       " 'past_observed_values': array([0., 0., 0., 0., 0., 0., 0., 0., 0., 0., 0., 1., 1., 1., 1., 1.],\n",
       "       dtype=float32),\n",
       " 'future_observed_values': array([1., 1., 1., 1., 1., 1., 1., 1.], dtype=float32),\n",
       " 'past_target': array([    0.    ,     0.    ,     0.    ,     0.    ,     0.    ,\n",
       "            0.    ,     0.    ,     0.    ,     0.    ,     0.    ,\n",
       "            0.    , 15393.542 , 13469.155 , 15054.557 , 15358.233 ,\n",
       "        15865.3125], dtype=float32),\n",
       " 'future_target': array([15181.226, 16829.693, 14921.425, 16287.716, 17285.436, 16028.79 ,\n",
       "        16223.642, 17256.63 ], dtype=float32),\n",
       " 'past_is_pad': array([1., 1., 1., 1., 1., 1., 1., 1., 1., 1., 1., 0., 0., 0., 0., 0.],\n",
       "       dtype=float32),\n",
       " 'forecast_start': Timestamp('2019-06-30 00:00:00', freq='M')}"
      ]
     },
     "execution_count": 417,
     "metadata": {},
     "output_type": "execute_result"
    }
   ],
   "source": [
    "train_tf_entry"
   ]
  },
  {
   "cell_type": "code",
   "execution_count": 418,
   "metadata": {},
   "outputs": [],
   "source": [
    "test_tf = transformation(iter(test_ds), is_train=False)"
   ]
  },
  {
   "cell_type": "code",
   "execution_count": 419,
   "metadata": {},
   "outputs": [
    {
     "data": {
      "text/plain": [
       "['start',\n",
       " 'source',\n",
       " 'past_feat_dynamic_age',\n",
       " 'future_feat_dynamic_age',\n",
       " 'past_feat_dynamic_real',\n",
       " 'future_feat_dynamic_real',\n",
       " 'past_observed_values',\n",
       " 'future_observed_values',\n",
       " 'past_target',\n",
       " 'future_target',\n",
       " 'past_is_pad',\n",
       " 'forecast_start']"
      ]
     },
     "execution_count": 419,
     "metadata": {},
     "output_type": "execute_result"
    }
   ],
   "source": [
    "test_tf_entry = next(iter(test_tf))\n",
    "[k for k in test_tf_entry.keys()]"
   ]
  },
  {
   "cell_type": "code",
   "execution_count": 420,
   "metadata": {},
   "outputs": [
    {
     "data": {
      "text/plain": [
       "{'start': Timestamp('2019-01-31 00:00:00', freq='M'),\n",
       " 'source': SourceContext(source='list_data', row=0),\n",
       " 'past_feat_dynamic_age': array([[0.        ],\n",
       "        [0.        ],\n",
       "        [0.        ],\n",
       "        [0.30103   ],\n",
       "        [0.47712123],\n",
       "        [0.60206   ],\n",
       "        [0.69897   ],\n",
       "        [0.7781513 ],\n",
       "        [0.845098  ],\n",
       "        [0.90309   ],\n",
       "        [0.9542425 ],\n",
       "        [1.        ],\n",
       "        [1.0413927 ],\n",
       "        [1.0791812 ],\n",
       "        [1.1139433 ],\n",
       "        [1.146128  ]], dtype=float32),\n",
       " 'future_feat_dynamic_age': array([[1.1760913],\n",
       "        [1.20412  ],\n",
       "        [1.230449 ],\n",
       "        [1.2552725],\n",
       "        [1.2787536],\n",
       "        [1.30103  ],\n",
       "        [1.3222193],\n",
       "        [1.3424227]], dtype=float32),\n",
       " 'past_feat_dynamic_real': array([[0.        ],\n",
       "        [0.        ],\n",
       "        [0.        ],\n",
       "        [0.02092962],\n",
       "        [0.02217826],\n",
       "        [0.0238375 ],\n",
       "        [0.02034644],\n",
       "        [0.02805849],\n",
       "        [0.02679568],\n",
       "        [0.02722661],\n",
       "        [0.01364447],\n",
       "        [0.02558626],\n",
       "        [0.03160065],\n",
       "        [0.03012255],\n",
       "        [0.01908953],\n",
       "        [0.02072608]], dtype=float32),\n",
       " 'future_feat_dynamic_real': array([[0.02310678],\n",
       "        [0.01441896],\n",
       "        [0.01296704],\n",
       "        [0.01495494],\n",
       "        [0.01897017],\n",
       "        [0.01502456],\n",
       "        [0.00895671],\n",
       "        [0.01739007]], dtype=float32),\n",
       " 'past_observed_values': array([0., 0., 0., 1., 1., 1., 1., 1., 1., 1., 1., 1., 1., 1., 1., 1.],\n",
       "       dtype=float32),\n",
       " 'future_observed_values': array([1., 1., 1., 1., 1., 1., 1., 1.], dtype=float32),\n",
       " 'past_target': array([    0.    ,     0.    ,     0.    , 15393.542 , 13469.155 ,\n",
       "        15054.557 , 15358.233 , 15865.3125, 15181.226 , 16829.693 ,\n",
       "        14921.425 , 16287.716 , 17285.436 , 16028.79  , 16223.642 ,\n",
       "        17256.63  ], dtype=float32),\n",
       " 'future_target': array([15818.628, 20519.916, 17847.578, 16433.443, 18239.793, 18837.916,\n",
       "        17020.553, 18751.094], dtype=float32),\n",
       " 'past_is_pad': array([1., 1., 1., 0., 0., 0., 0., 0., 0., 0., 0., 0., 0., 0., 0., 0.],\n",
       "       dtype=float32),\n",
       " 'forecast_start': Timestamp('2020-02-29 00:00:00', freq='M')}"
      ]
     },
     "execution_count": 420,
     "metadata": {},
     "output_type": "execute_result"
    }
   ],
   "source": [
    "test_tf_entry"
   ]
  },
  {
   "cell_type": "code",
   "execution_count": 422,
   "metadata": {},
   "outputs": [
    {
     "name": "stdout",
     "output_type": "stream",
     "text": [
      "past target shape: (16,)\n",
      "future target shape: (8,)\n",
      "past observed values shape: (16,)\n",
      "future observed values shape: (8,)\n",
      "past age feature shape: (16, 1)\n",
      "future age feature shape: (8, 1)\n"
     ]
    }
   ],
   "source": [
    "print(f\"past target shape: {train_tf_entry['past_target'].shape}\")\n",
    "print(f\"future target shape: {train_tf_entry['future_target'].shape}\")\n",
    "print(f\"past observed values shape: {train_tf_entry['past_observed_values'].shape}\")\n",
    "print(f\"future observed values shape: {train_tf_entry['future_observed_values'].shape}\")\n",
    "print(f\"past age feature shape: {train_tf_entry['past_feat_dynamic_age'].shape}\")\n",
    "print(f\"future age feature shape: {train_tf_entry['future_feat_dynamic_age'].shape}\")\n",
    "#print(train_tf_entry['feat_static_cat'])"
   ]
  },
  {
   "cell_type": "code",
   "execution_count": 426,
   "metadata": {},
   "outputs": [
    {
     "name": "stdout",
     "output_type": "stream",
     "text": [
      "past target shape: (16,)\n",
      "future target shape: (8,)\n",
      "past observed values shape: (16,)\n",
      "future observed values shape: (8,)\n",
      "past age feature shape: (16, 1)\n",
      "future age feature shape: (8, 1)\n"
     ]
    }
   ],
   "source": [
    "print(f\"past target shape: {test_tf_entry['past_target'].shape}\")\n",
    "print(f\"future target shape: {test_tf_entry['future_target'].shape}\")\n",
    "print(f\"past observed values shape: {test_tf_entry['past_observed_values'].shape}\")\n",
    "print(f\"future observed values shape: {test_tf_entry['future_observed_values'].shape}\")\n",
    "print(f\"past age feature shape: {test_tf_entry['past_feat_dynamic_age'].shape}\")\n",
    "print(f\"future age feature shape: {test_tf_entry['future_feat_dynamic_age'].shape}\")\n",
    "#print(test_tf_entry['feat_static_cat'])"
   ]
  },
  {
   "cell_type": "code",
   "execution_count": 429,
   "metadata": {},
   "outputs": [
    {
     "data": {
      "application/vnd.jupyter.widget-view+json": {
       "model_id": "e5082ce557d742ffa1f62fb178bc3446",
       "version_major": 2,
       "version_minor": 0
      },
      "text/plain": [
       "  0%|          | 0/127 [00:00<?, ?it/s]"
      ]
     },
     "metadata": {},
     "output_type": "display_data"
    },
    {
     "data": {
      "application/vnd.jupyter.widget-view+json": {
       "model_id": "7faeb27dd3ba4b11bb18747fb957655e",
       "version_major": 2,
       "version_minor": 0
      },
      "text/plain": [
       "  0%|          | 0/127 [00:00<?, ?it/s]"
      ]
     },
     "metadata": {},
     "output_type": "display_data"
    },
    {
     "data": {
      "application/vnd.jupyter.widget-view+json": {
       "model_id": "51582eff81434c2b8de4c04699f28207",
       "version_major": 2,
       "version_minor": 0
      },
      "text/plain": [
       "  0%|          | 0/127 [00:00<?, ?it/s]"
      ]
     },
     "metadata": {},
     "output_type": "display_data"
    },
    {
     "data": {
      "application/vnd.jupyter.widget-view+json": {
       "model_id": "50160b25022343f6a8cc3b995f183c13",
       "version_major": 2,
       "version_minor": 0
      },
      "text/plain": [
       "  0%|          | 0/127 [00:00<?, ?it/s]"
      ]
     },
     "metadata": {},
     "output_type": "display_data"
    },
    {
     "data": {
      "application/vnd.jupyter.widget-view+json": {
       "model_id": "775f2656773c46d0b14ad19d788aebcc",
       "version_major": 2,
       "version_minor": 0
      },
      "text/plain": [
       "  0%|          | 0/127 [00:00<?, ?it/s]"
      ]
     },
     "metadata": {},
     "output_type": "display_data"
    },
    {
     "data": {
      "application/vnd.jupyter.widget-view+json": {
       "model_id": "41c59e8dc9e440a6b7b69e7799abe15f",
       "version_major": 2,
       "version_minor": 0
      },
      "text/plain": [
       "  0%|          | 0/127 [00:00<?, ?it/s]"
      ]
     },
     "metadata": {},
     "output_type": "display_data"
    },
    {
     "data": {
      "application/vnd.jupyter.widget-view+json": {
       "model_id": "93c38c492db942ca8e3a2ae3ef858c24",
       "version_major": 2,
       "version_minor": 0
      },
      "text/plain": [
       "  0%|          | 0/127 [00:00<?, ?it/s]"
      ]
     },
     "metadata": {},
     "output_type": "display_data"
    },
    {
     "data": {
      "application/vnd.jupyter.widget-view+json": {
       "model_id": "57b558f4c7cf4fdcbf81c78d18044a76",
       "version_major": 2,
       "version_minor": 0
      },
      "text/plain": [
       "  0%|          | 0/127 [00:00<?, ?it/s]"
      ]
     },
     "metadata": {},
     "output_type": "display_data"
    },
    {
     "data": {
      "application/vnd.jupyter.widget-view+json": {
       "model_id": "9377396dd43548a2837c43c51fd5ce53",
       "version_major": 2,
       "version_minor": 0
      },
      "text/plain": [
       "  0%|          | 0/127 [00:00<?, ?it/s]"
      ]
     },
     "metadata": {},
     "output_type": "display_data"
    },
    {
     "data": {
      "application/vnd.jupyter.widget-view+json": {
       "model_id": "11fd65914aa64dac8452ec6af060b265",
       "version_major": 2,
       "version_minor": 0
      },
      "text/plain": [
       "  0%|          | 0/127 [00:00<?, ?it/s]"
      ]
     },
     "metadata": {},
     "output_type": "display_data"
    }
   ],
   "source": [
    "# Train model\n",
    "\n",
    "device = torch.device(\"cuda\" if torch.cuda.is_available() else \"cpu\")\n",
    "\n",
    "estimator = DeepAREstimator(freq=custom_ds_metadata['freq'],\n",
    "                            prediction_length=custom_ds_metadata['prediction_length'],\n",
    "                            input_size=12,\n",
    "                            trainer=Trainer(epochs=10,\n",
    "                                            learning_rate=1e-3,\n",
    "                                            num_batches_per_epoch=128,\n",
    "                                            #feat_dynamic_real=False,\n",
    "                                            #feat_dynamic_age=False,\n",
    "                                            #past_feat_dynamic_age=False,\n",
    "                                            batch_size=64,\n",
    "                                            device=device))\n",
    "\n",
    "predictor = estimator.train(training_data=train_ds, \n",
    "                                          num_workers=0\n",
    "                           )"
   ]
  },
  {
   "cell_type": "code",
   "execution_count": 430,
   "metadata": {},
   "outputs": [
    {
     "name": "stderr",
     "output_type": "stream",
     "text": [
      "Running evaluation: 100%|██████████| 1/1 [00:00<00:00,  6.31it/s]/home/jan_rathfelder/env_one/lib/python3.7/site-packages/gluonts/evaluation/_base.py:305: FutureWarning: Timestamp.freq is deprecated and will be removed in a future version\n",
      "  date_before_forecast = forecast.index[0] - forecast.index[0].freq\n",
      "\n"
     ]
    }
   ],
   "source": [
    "# Return forcast and compare with true values:\n",
    "\n",
    "forecast_it, ts_it = make_evaluation_predictions(\n",
    "    dataset=test_ds,  # test dataset\n",
    "    predictor=predictor,  # predictor\n",
    "    num_samples=100,  # number of sample paths we want for evaluation\n",
    ")\n",
    "\n",
    "forecasts = list(forecast_it)\n",
    "tss = list(ts_it)\n",
    "\n",
    "evaluator = Evaluator()\n",
    "agg_metrics, item_metrics = evaluator(iter(tss), iter(forecasts), num_series=len(test_ds))"
   ]
  },
  {
   "cell_type": "code",
   "execution_count": 431,
   "metadata": {},
   "outputs": [
    {
     "data": {
      "image/png": "[encoded data removed]",
      "text/plain": [
       "<Figure size 864x360 with 1 Axes>"
      ]
     },
     "metadata": {
      "needs_background": "light"
     },
     "output_type": "display_data"
    }
   ],
   "source": [
    "# Compare forecast vs true\n",
    "\n",
    "def plot_forecasts(tss, forecasts, past_length, num_plots):\n",
    "    for target, forecast in islice(zip(tss, forecasts), num_plots):\n",
    "        ax = target[-past_length:].plot(figsize=(12, 5), linewidth=2)\n",
    "        forecast.plot(color='g')\n",
    "        plt.grid(which='both')\n",
    "        plt.legend([\"observations\", \"median prediction\", \"90% confidence interval\", \"50% confidence interval\"])\n",
    "        plt.show()\n",
    "\n",
    "forecast_it, ts_it = make_evaluation_predictions(test_ds, predictor=predictor, num_samples=100)\n",
    "forecasts = list(forecast_it)\n",
    "tss = list(ts_it)\n",
    "plot_forecasts(tss, forecasts, past_length=150, num_plots=3)"
   ]
  },
  {
   "cell_type": "code",
   "execution_count": 432,
   "metadata": {},
   "outputs": [
    {
     "name": "stdout",
     "output_type": "stream",
     "text": [
      "{\n",
      "    \"MSE\": 849504.875,\n",
      "    \"abs_error\": 6369.58203125,\n",
      "    \"abs_target_sum\": 156037.9375,\n",
      "    \"abs_target_mean\": 19504.7421875,\n",
      "    \"seasonal_error\": 2388.01015625,\n",
      "    \"MASE\": 0.3334147268270229,\n",
      "    \"MAPE\": 0.040039755403995514,\n",
      "    \"sMAPE\": 0.039403147995471954,\n",
      "    \"MSIS\": 10.91122708400332,\n",
      "    \"QuantileLoss[0.1]\": 8166.475390625,\n",
      "    \"Coverage[0.1]\": 0.75,\n",
      "    \"QuantileLoss[0.2]\": 7927.73046875,\n",
      "    \"Coverage[0.2]\": 0.75,\n",
      "    \"QuantileLoss[0.3]\": 7483.608984375001,\n",
      "    \"Coverage[0.3]\": 0.75,\n",
      "    \"QuantileLoss[0.4]\": 6955.9984375,\n",
      "    \"Coverage[0.4]\": 0.75,\n",
      "    \"QuantileLoss[0.5]\": 6369.58203125,\n",
      "    \"Coverage[0.5]\": 0.75,\n",
      "    \"QuantileLoss[0.6]\": 5692.375781250001,\n",
      "    \"Coverage[0.6]\": 0.75,\n",
      "    \"QuantileLoss[0.7]\": 4959.459765625001,\n",
      "    \"Coverage[0.7]\": 0.75,\n",
      "    \"QuantileLoss[0.8]\": 4175.3921875,\n",
      "    \"Coverage[0.8]\": 0.75,\n",
      "    \"QuantileLoss[0.9]\": 3298.725390625,\n",
      "    \"Coverage[0.9]\": 0.75,\n",
      "    \"RMSE\": 921.685887382464,\n",
      "    \"NRMSE\": 0.04725445117511703,\n",
      "    \"ND\": 0.040820726890535834,\n",
      "    \"wQuantileLoss[0.1]\": 0.052336473561918236,\n",
      "    \"wQuantileLoss[0.2]\": 0.05080642948609853,\n",
      "    \"wQuantileLoss[0.3]\": 0.047960189068603915,\n",
      "    \"wQuantileLoss[0.4]\": 0.04457889247286417,\n",
      "    \"wQuantileLoss[0.5]\": 0.040820726890535834,\n",
      "    \"wQuantileLoss[0.6]\": 0.03648071662860835,\n",
      "    \"wQuantileLoss[0.7]\": 0.031783679309558936,\n",
      "    \"wQuantileLoss[0.8]\": 0.026758827080113127,\n",
      "    \"wQuantileLoss[0.9]\": 0.021140534433332917,\n",
      "    \"mean_absolute_QuantileLoss\": 6114.372048611111,\n",
      "    \"mean_wQuantileLoss\": 0.039185163214626006,\n",
      "    \"MAE_Coverage\": 0.29444444444444445,\n",
      "    \"OWA\": NaN\n",
      "}\n"
     ]
    }
   ],
   "source": [
    "# Print errors:\n",
    "\n",
    "print(json.dumps(agg_metrics, indent=4))"
   ]
  },
  {
   "cell_type": "code",
   "execution_count": null,
   "metadata": {},
   "outputs": [],
   "source": []
  }
 ],
 "metadata": {
  "kernelspec": {
   "display_name": "scale_up_jupyter",
   "language": "python",
   "name": "scale_up_jupyter"
  },
  "language_info": {
   "codemirror_mode": {
    "name": "ipython",
    "version": 3
   },
   "file_extension": ".py",
   "mimetype": "text/x-python",
   "name": "python",
   "nbconvert_exporter": "python",
   "pygments_lexer": "ipython3",
   "version": "3.7.4"
  }
 },
 "nbformat": 4,
 "nbformat_minor": 4
}
