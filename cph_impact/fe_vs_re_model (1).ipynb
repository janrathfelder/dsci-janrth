{
 "cells": [
  {
   "cell_type": "code",
   "execution_count": 1,
   "id": "3c5ceee4-54d3-413d-a7aa-68a5753bb907",
   "metadata": {},
   "outputs": [],
   "source": [
    "import pandas as pd\n",
    "import numpy as np\n",
    "from matplotlib import pyplot as plt\n",
    "from sklearn.preprocessing import MinMaxScaler\n",
    "from sklearn import metrics\n",
    "import statsmodels.api as sm\n",
    "from scipy import stats\n",
    "import statsmodels.formula.api as smf\n",
    "import statsmodels.stats.api as sms\n",
    "import scipy.stats\n",
    "from statsmodels.tsa.seasonal import STL\n",
    "from statsmodels.tsa.seasonal import seasonal_decompose\n",
    "\n",
    "from statsmodels.tsa.api import UECM\n",
    "from statsmodels.tsa.api import ARDL\n",
    "from statsmodels.tsa.ardl import ardl_select_order\n",
    "\n",
    "from ols import *\n",
    "import ols_assumptions_check \n",
    "import trend_seasonality\n",
    "\n",
    "pd.options.mode.chained_assignment = None\n",
    "\n",
    "pd.set_option('display.max_rows', None)\n",
    "pd.set_option('display.max_columns', None)\n",
    "\n",
    "import linearmodels\n",
    "from linearmodels.panel import RandomEffects\n",
    "from linearmodels.panel import PanelOLS"
   ]
  },
  {
   "cell_type": "code",
   "execution_count": 333,
   "id": "c03a8b56-4d93-4289-af93-db8692ac2d11",
   "metadata": {},
   "outputs": [],
   "source": [
    "df = pd.read_csv('s3://phmsbi-cpd-analytics-dev/jan_rathfelder/ita/xrlt/impact_attribution.predictive_modeling/model_input_asl_new.csv')\n",
    "df['yyyymm'] = pd.to_datetime(df.yyyymm)\n",
    "df = df[df.asl!='FABRIANO'].copy()\n",
    "\n",
    "df['month'] = df['yyyymm'].dt.month\n",
    "df['week'] = df['yyyymm'].dt.week\n",
    "\n",
    "a = pd.get_dummies(df.month, prefix='month')\n",
    "a.drop([a.columns[-1]],axis =1, inplace=True)\n",
    "\n",
    "b = pd.get_dummies(df.week, prefix='week')\n",
    "b.drop([b.columns[-1]],axis =1, inplace=True)\n",
    "\n",
    "c = pd.get_dummies(df.asl, prefix='dummy')\n",
    "c.drop([c.columns[25]],axis =1, inplace=True)\n",
    "\n",
    "d = pd.get_dummies(df.region, prefix='dummy')\n",
    "d.drop([d.columns[5]],axis =1, inplace=True)\n",
    "\n",
    "e = pd.get_dummies(df.macro, prefix='dummy', drop_first=True)\n",
    "\n",
    "df = pd.merge(df, a, left_index=True, right_index=True)\n",
    "df = pd.merge(df, b, left_index=True, right_index=True)\n",
    "df = pd.merge(df, c, left_index=True, right_index=True)\n",
    "df = pd.merge(df, d, left_index=True, right_index=True)\n",
    "df = pd.merge(df, e, left_index=True, right_index=True)"
   ]
  },
  {
   "cell_type": "code",
   "execution_count": 334,
   "id": "b95ff45c-f749-41b2-a9dd-a9774dc7d5b7",
   "metadata": {},
   "outputs": [],
   "source": [
    "# apply trend and seasonality cleaning / extraction:\n",
    "\n",
    "df = trend_seasonality.trend(df, 'sales_per_hcp', 1)\n",
    "df = trend_seasonality.trend(df, 'num_cph_visit', 1)\n",
    "df = trend_seasonality.trend(df, 'num_nocph_visit', 1)"
   ]
  },
  {
   "cell_type": "code",
   "execution_count": 335,
   "id": "ff9dc5dc-eff1-41bb-b53e-fcff44a3d4a5",
   "metadata": {},
   "outputs": [],
   "source": [
    "#df.yyyymm = df.yyyymm.astype('category')\n",
    "df = df.set_index([\"asl\", \"yyyymm\"])"
   ]
  },
  {
   "cell_type": "raw",
   "id": "9e3404b0-d80d-496f-8284-d6f1132719bd",
   "metadata": {},
   "source": [
    "\n",
    "features = ['num_cph_visit_1_to_4m_mean', 'num_nocph_visit_1_to_4m_mean']\n",
    "time_features = []\n",
    "target = 'sales_per_hcp'"
   ]
  },
  {
   "cell_type": "code",
   "execution_count": 336,
   "id": "d9215ae7-70d6-4603-97fc-256c036b0f31",
   "metadata": {},
   "outputs": [],
   "source": [
    "time_features = [\n",
    "    'sales_per_hcp_detrended_shift1',\n",
    " 'sales_per_hcp_detrended_shift2',\n",
    " 'sales_per_hcp_detrended_shift3',\n",
    " 'sales_per_hcp_detrended_shift4',\n",
    " 'sales_per_hcp_detrended_shift5',\n",
    " 'sales_per_hcp_detrended_shift6',\n",
    "                 'sales_per_hcp_detrended_shift7',\n",
    " 'sales_per_hcp_detrended_shift8',\n",
    "    'sales_per_hcp_detrended_shift9',\n",
    "    'sales_per_hcp_detrended_shift10',\n",
    "                 #'num_cph_visit_shift9',\n",
    "                 #'num_cph_visit_shift10',\n",
    "                ]\n",
    "features=[\n",
    "'num_cph_visit',\n",
    "    'num_cph_visit_shift1',\n",
    "    'num_cph_visit_shift2',\n",
    "    #'num_cph_visit_shift3',\n",
    "    'num_nocph_visit',\n",
    "    'num_nocph_visit_shift1',\n",
    "    'num_nocph_visit_shift2',\n",
    "    #'num_nocph_visit_shift3'\n",
    "        ]\n",
    "features=[\n",
    "'num_cph_visit_1_to_4m_mean',\n",
    "'num_nocph_visit_1_to_4m_mean',\n",
    "    'num_AE_cph',\n",
    "    'num_NL_cph'\n",
    "        ]\n",
    "\n",
    "target = 'sales_per_hcp_detrended'"
   ]
  },
  {
   "cell_type": "code",
   "execution_count": 354,
   "id": "fa00a7b0-64a5-4ef2-8b0b-7ea04d115865",
   "metadata": {},
   "outputs": [
    {
     "name": "stdout",
     "output_type": "stream",
     "text": [
      "normalize asl lvl\n",
      "                           RandomEffects Estimation Summary                          \n",
      "=====================================================================================\n",
      "Dep. Variable:     sales_per_hcp_detrended   R-squared:                        0.2302\n",
      "Estimator:                   RandomEffects   R-squared (Between):             -1.1468\n",
      "No. Observations:                     1680   R-squared (Within):               0.2464\n",
      "Date:                     Mon, Aug 29 2022   R-squared (Overall):              0.2302\n",
      "Time:                             21:18:23   Log-likelihood                    3519.2\n",
      "Cov. Estimator:                  Clustered                                           \n",
      "                                             F-statistic:                      35.555\n",
      "Entities:                              120   P-value                           0.0000\n",
      "Avg Obs:                            14.000   Distribution:                 F(14,1665)\n",
      "Min Obs:                            14.000                                           \n",
      "Max Obs:                            14.000   F-statistic (robust):             67.657\n",
      "                                             P-value                           0.0000\n",
      "Time periods:                           24   Distribution:                 F(14,1665)\n",
      "Avg Obs:                            70.000                                           \n",
      "Min Obs:                            0.0000                                           \n",
      "Max Obs:                            120.00                                           \n",
      "                                                                                     \n",
      "                                        Parameter Estimates                                        \n",
      "===================================================================================================\n",
      "                                 Parameter  Std. Err.     T-stat    P-value    Lower CI    Upper CI\n",
      "---------------------------------------------------------------------------------------------------\n",
      "const                               1.5327     0.1123     13.654     0.0000      1.3126      1.7529\n",
      "num_cph_visit_1_to_4m_mean          0.0098     0.0029     3.3611     0.0008      0.0041      0.0155\n",
      "num_nocph_visit_1_to_4m_mean        0.0173     0.0030     5.7736     0.0000      0.0114      0.0232\n",
      "num_AE_cph                          0.0004     0.0023     0.1804     0.8568     -0.0041      0.0049\n",
      "num_NL_cph                         -0.0173     0.0033    -5.2994     0.0000     -0.0238     -0.0109\n",
      "sales_per_hcp_detrended_shift1     -0.2511     0.0279    -8.9947     0.0000     -0.3059     -0.1963\n",
      "sales_per_hcp_detrended_shift2     -0.0682     0.0271    -2.5139     0.0120     -0.1214     -0.0150\n",
      "sales_per_hcp_detrended_shift3     -0.0416     0.0276    -1.5075     0.1319     -0.0957      0.0125\n",
      "sales_per_hcp_detrended_shift4     -0.1419     0.0241    -5.8907     0.0000     -0.1891     -0.0947\n",
      "sales_per_hcp_detrended_shift5     -0.2933     0.0229    -12.805     0.0000     -0.3382     -0.2484\n",
      "sales_per_hcp_detrended_shift6     -0.0765     0.0227    -3.3695     0.0008     -0.1210     -0.0320\n",
      "sales_per_hcp_detrended_shift7      0.1791     0.0291     6.1558     0.0000      0.1220      0.2362\n",
      "sales_per_hcp_detrended_shift8      0.0586     0.0248     2.3577     0.0185      0.0098      0.1073\n",
      "sales_per_hcp_detrended_shift9      0.0540     0.0324     1.6653     0.0960     -0.0096      0.1176\n",
      "sales_per_hcp_detrended_shift10     0.0432     0.0290     1.4905     0.1363     -0.0136      0.1001\n",
      "===================================================================================================\n"
     ]
    }
   ],
   "source": [
    "scaler = MinMaxScaler()\n",
    "normalize=1\n",
    "normalize_asl=1\n",
    "\n",
    "dfx = df[[target]+features+time_features\n",
    "        +a.columns.values.tolist()\n",
    "        +['sales_per_hcp_trend']\n",
    "        +['sales_per_hcp_season']].dropna().copy()\n",
    "dfx = sm.tools.tools.add_constant(dfx).fillna(0)\n",
    "\n",
    "features_to_be_used = [['const']+\n",
    "                       features+\n",
    "                       #+diff_features\n",
    "                       time_features\n",
    "                       \n",
    "                       #+['month']\n",
    "                       #+['year']\n",
    "                       #+meta_features\n",
    "                       #+d.columns.values.tolist() # region\n",
    "                       #+a.columns.values.tolist() # month\n",
    "                       #+c.columns.values.tolist() # asl\n",
    "                       #+e.columns.values.tolist() # macro\n",
    "                       ]\n",
    "\n",
    "if normalize == 1:\n",
    "    dfx[features_to_be_used[0]] = dfx[features_to_be_used[0]].dropna()\n",
    "    \n",
    "    if normalize_asl == 1:\n",
    "        print('normalize asl lvl')\n",
    "        for feat in features:\n",
    "            temp1 = dfx.groupby('asl').apply(lambda x: np.concatenate(scaler.fit_transform(\n",
    "            x[feat].values.reshape(-1, 1))))     \n",
    "            norm_stacked = np.hstack(temp1)\n",
    "            dfx[feat] = norm_stacked  \n",
    "    else:\n",
    "        print('normalize')\n",
    "        for feat in features:\n",
    "            dfx[feat] = scaler.fit_transform(dfx[feat].values.reshape(-1, 1))\n",
    "\n",
    "mod = RandomEffects(dfx[target], dfx[['const']+features+time_features\n",
    "                                    #+a.columns.values.tolist()\n",
    "                                    ],\n",
    "                   \n",
    "                   )\n",
    "re_res = mod.fit(cov_type='clustered', cluster_entity=True)\n",
    "print(re_res)"
   ]
  },
  {
   "cell_type": "code",
   "execution_count": 355,
   "id": "627baf6d-a509-4f6d-acd5-23d687eb325a",
   "metadata": {},
   "outputs": [
    {
     "name": "stdout",
     "output_type": "stream",
     "text": [
      "normalize asl lvl\n",
      "                             PanelOLS Estimation Summary                             \n",
      "=====================================================================================\n",
      "Dep. Variable:     sales_per_hcp_detrended   R-squared:                        0.2486\n",
      "Estimator:                        PanelOLS   R-squared (Between):             -1.5541\n",
      "No. Observations:                     1680   R-squared (Within):               0.2486\n",
      "Date:                     Mon, Aug 29 2022   R-squared (Overall):              0.2276\n",
      "Time:                             21:18:35   Log-likelihood                    3549.4\n",
      "Cov. Estimator:                  Clustered                                           \n",
      "                                             F-statistic:                      36.527\n",
      "Entities:                              120   P-value                           0.0000\n",
      "Avg Obs:                            14.000   Distribution:                 F(14,1546)\n",
      "Min Obs:                            14.000                                           \n",
      "Max Obs:                            14.000   F-statistic (robust):             86.079\n",
      "                                             P-value                           0.0000\n",
      "Time periods:                           24   Distribution:                 F(14,1546)\n",
      "Avg Obs:                            70.000                                           \n",
      "Min Obs:                            0.0000                                           \n",
      "Max Obs:                            120.00                                           \n",
      "                                                                                     \n",
      "                                        Parameter Estimates                                        \n",
      "===================================================================================================\n",
      "                                 Parameter  Std. Err.     T-stat    P-value    Lower CI    Upper CI\n",
      "---------------------------------------------------------------------------------------------------\n",
      "const                               1.7445     0.1411     12.361     0.0000      1.4676      2.0213\n",
      "num_cph_visit_1_to_4m_mean          0.0129     0.0032     3.9871     0.0001      0.0065      0.0192\n",
      "num_nocph_visit_1_to_4m_mean        0.0191     0.0034     5.5517     0.0000      0.0123      0.0258\n",
      "num_AE_cph                          0.0010     0.0026     0.3611     0.7181     -0.0042      0.0061\n",
      "num_NL_cph                         -0.0190     0.0034    -5.6569     0.0000     -0.0256     -0.0124\n",
      "sales_per_hcp_detrended_shift1     -0.2827     0.0297    -9.5046     0.0000     -0.3411     -0.2244\n",
      "sales_per_hcp_detrended_shift2     -0.1025     0.0301    -3.4075     0.0007     -0.1616     -0.0435\n",
      "sales_per_hcp_detrended_shift3     -0.0709     0.0281    -2.5187     0.0119     -0.1261     -0.0157\n",
      "sales_per_hcp_detrended_shift4     -0.1656     0.0275    -6.0266     0.0000     -0.2195     -0.1117\n",
      "sales_per_hcp_detrended_shift5     -0.3169     0.0233    -13.573     0.0000     -0.3627     -0.2711\n",
      "sales_per_hcp_detrended_shift6     -0.1025     0.0256    -3.9989     0.0001     -0.1527     -0.0522\n",
      "sales_per_hcp_detrended_shift7      0.1513     0.0319     4.7480     0.0000      0.0888      0.2138\n",
      "sales_per_hcp_detrended_shift8      0.0406     0.0269     1.5097     0.1313     -0.0122      0.0934\n",
      "sales_per_hcp_detrended_shift9      0.0470     0.0317     1.4853     0.1377     -0.0151      0.1091\n",
      "sales_per_hcp_detrended_shift10     0.0508     0.0293     1.7312     0.0836     -0.0068      0.1083\n",
      "===================================================================================================\n",
      "\n",
      "F-test for Poolability: 0.4749\n",
      "P-value: 1.0000\n",
      "Distribution: F(119,1546)\n",
      "\n",
      "Included effects: Entity\n"
     ]
    }
   ],
   "source": [
    "normalize=1\n",
    "normalize_asl=1\n",
    "\n",
    "dfx = df[[target]+features+time_features\n",
    "        +a.columns.values.tolist()\n",
    "        +['sales_per_hcp_trend']\n",
    "        +['sales_per_hcp_season']].dropna().copy()\n",
    "dfx = sm.tools.tools.add_constant(dfx).fillna(0)\n",
    "\n",
    "features_to_be_used = [['const']+\n",
    "                       features+\n",
    "                       #+diff_features\n",
    "                       time_features\n",
    "                       #+['month']\n",
    "                       #+['year']\n",
    "                       #+meta_features\n",
    "                       #+d.columns.values.tolist() # region\n",
    "                       #+a.columns.values.tolist() # month\n",
    "                       #+c.columns.values.tolist() # asl\n",
    "                       #+e.columns.values.tolist() # macro\n",
    "                       ]\n",
    "\n",
    "if normalize == 1:\n",
    "    dfx[features_to_be_used[0]] = dfx[features_to_be_used[0]].dropna()\n",
    "    \n",
    "    if normalize_asl == 1:\n",
    "        print('normalize asl lvl')\n",
    "        for feat in features:\n",
    "            temp1 = dfx.groupby('asl').apply(lambda x: np.concatenate(scaler.fit_transform(\n",
    "            x[feat].values.reshape(-1, 1))))     \n",
    "            norm_stacked = np.hstack(temp1)\n",
    "            dfx[feat] = norm_stacked  \n",
    "    else:\n",
    "        print('normalize')\n",
    "        for feat in features:\n",
    "            dfx[feat] = scaler.fit_transform(dfx[feat].values.reshape(-1, 1))\n",
    "\n",
    "\n",
    "mod = PanelOLS(dfx[target], dfx[['const']+features\n",
    "                                +time_features\n",
    "                                    #+a.columns.values.tolist()\n",
    "                               ], entity_effects=True)\n",
    "fe_res = mod.fit(\n",
    "     cov_type='clustered', \n",
    "     cluster_entity=True\n",
    ")\n",
    "print(fe_res)"
   ]
  },
  {
   "cell_type": "code",
   "execution_count": 356,
   "id": "cbc6abf4-32c3-45da-9402-00cc40892e06",
   "metadata": {},
   "outputs": [
    {
     "name": "stdout",
     "output_type": "stream",
     "text": [
      "{'LM-Stat': 16.97482821215713, 'LM p-val': 0.25752175556259654, 'F-Stat': 1.2139275482805558, 'F p-val': 0.2577978472137416}\n",
      "{'LM-Stat': 286.2157696106915, 'LM p-val': 9.568230898492808e-62, 'F-Stat': 86.04230472128583, 'F p-val': 1.5287960391201443e-66}\n"
     ]
    }
   ],
   "source": [
    "# 3A.2 White-Test\n",
    "from statsmodels.stats.diagnostic import het_white, het_breuschpagan\n",
    "\n",
    "dfx = sm.tools.tools.add_constant(dfx).fillna(0)\n",
    "white_test_results = het_white(re_res.resids, dfx[features+['const']])\n",
    "labels = ['LM-Stat', 'LM p-val', 'F-Stat', 'F p-val'] \n",
    "print(dict(zip(labels, white_test_results)))\n",
    "\n",
    "# 3A.3 Breusch-Pagan-Test\n",
    "breusch_pagan_test_results = het_breuschpagan(re_res.resids, dfx[features])\n",
    "labels = ['LM-Stat', 'LM p-val', 'F-Stat', 'F p-val'] \n",
    "print(dict(zip(labels, breusch_pagan_test_results)))"
   ]
  },
  {
   "cell_type": "code",
   "execution_count": 357,
   "id": "9fd029b5-81c4-4157-9333-158f3c1d5ce1",
   "metadata": {},
   "outputs": [
    {
     "data": {
      "image/png": "[encoded data removed]",
      "text/plain": [
       "<Figure size 432x288 with 1 Axes>"
      ]
     },
     "metadata": {
      "needs_background": "light"
     },
     "output_type": "display_data"
    }
   ],
   "source": [
    "plt.scatter(dfx[target], fe_res.resids)\n",
    "plt.scatter(dfx[target], re_res.resids)\n",
    "plt.show()"
   ]
  },
  {
   "cell_type": "code",
   "execution_count": 358,
   "id": "34aadc2b-9e76-4273-b266-3de967f3da74",
   "metadata": {},
   "outputs": [
    {
     "name": "stdout",
     "output_type": "stream",
     "text": [
      "{'LM-Stat': 16.797357924277783, 'LM p-val': 0.26713764973997917, 'F-Stat': 1.2011078693427137, 'F p-val': 0.26746705037824114}\n",
      "{'LM-Stat': 308.0126992808494, 'LM p-val': 1.8345085143413552e-66, 'F-Stat': 94.06597344671358, 'F p-val': 3.0166123503211763e-72}\n"
     ]
    }
   ],
   "source": [
    "dfx = sm.tools.tools.add_constant(dfx).fillna(0)\n",
    "white_test_results = het_white(fe_res.resids, dfx[features+['const']])\n",
    "labels = ['LM-Stat', 'LM p-val', 'F-Stat', 'F p-val'] \n",
    "print(dict(zip(labels, white_test_results)))\n",
    "\n",
    "# 3A.3 Breusch-Pagan-Test\n",
    "breusch_pagan_test_results = het_breuschpagan(fe_res.resids, dfx[features])\n",
    "labels = ['LM-Stat', 'LM p-val', 'F-Stat', 'F p-val'] \n",
    "print(dict(zip(labels, breusch_pagan_test_results)))"
   ]
  },
  {
   "cell_type": "markdown",
   "id": "e1d5598d-4c0d-49bd-adcf-918c26390c7e",
   "metadata": {},
   "source": [
    "Small p-values indicate strong heteroskedasticity!"
   ]
  },
  {
   "cell_type": "code",
   "execution_count": 359,
   "id": "284e40b1-fa43-4270-a49e-cbd534be21cf",
   "metadata": {},
   "outputs": [
    {
     "name": "stdout",
     "output_type": "stream",
     "text": [
      "2.0107253581663027\n"
     ]
    }
   ],
   "source": [
    "# 3.B Non-Autocorrelation\n",
    "# Durbin-Watson-Test\n",
    "from statsmodels.stats.stattools import durbin_watson\n",
    "\n",
    "durbin_watson_test_results = durbin_watson(re_res.resids) \n",
    "print(durbin_watson_test_results)"
   ]
  },
  {
   "cell_type": "code",
   "execution_count": 360,
   "id": "0008c79f-4632-4b9f-b434-8ba1d471c972",
   "metadata": {},
   "outputs": [
    {
     "name": "stdout",
     "output_type": "stream",
     "text": [
      "2.0220849284428106\n"
     ]
    }
   ],
   "source": [
    "durbin_watson_test_results = durbin_watson(fe_res.resids) \n",
    "print(durbin_watson_test_results)"
   ]
  },
  {
   "cell_type": "code",
   "execution_count": null,
   "id": "eb194065-ac3e-4675-9389-06ac057b1a7f",
   "metadata": {},
   "outputs": [],
   "source": []
  },
  {
   "cell_type": "code",
   "execution_count": 361,
   "id": "4e8f0e06-6574-48c9-9c0c-63986c2695fd",
   "metadata": {},
   "outputs": [
    {
     "name": "stdout",
     "output_type": "stream",
     "text": [
      "                                      Model Comparison                                     \n",
      "===========================================================================================\n",
      "                                                             FE                          RE\n",
      "-------------------------------------------------------------------------------------------\n",
      "Dep. Variable                           sales_per_hcp_detrended     sales_per_hcp_detrended\n",
      "Estimator                                              PanelOLS               RandomEffects\n",
      "No. Observations                                           1680                        1680\n",
      "Cov. Est.                                             Clustered                   Clustered\n",
      "R-squared                                                0.2486                      0.2302\n",
      "R-Squared (Within)                                       0.2486                      0.2464\n",
      "R-Squared (Between)                                     -1.5541                     -1.1468\n",
      "R-Squared (Overall)                                      0.2276                      0.2302\n",
      "F-statistic                                              36.527                      35.555\n",
      "P-value (F-stat)                                         0.0000                      0.0000\n",
      "=================================     =========================   =========================\n",
      "const                                                    1.7445                      1.5327\n",
      "                                                       (12.361)                    (13.654)\n",
      "num_cph_visit_1_to_4m_mean                               0.0129                      0.0098\n",
      "                                                       (3.9871)                    (3.3611)\n",
      "num_nocph_visit_1_to_4m_mean                             0.0191                      0.0173\n",
      "                                                       (5.5517)                    (5.7736)\n",
      "num_AE_cph                                               0.0010                      0.0004\n",
      "                                                       (0.3611)                    (0.1804)\n",
      "num_NL_cph                                              -0.0190                     -0.0173\n",
      "                                                      (-5.6569)                   (-5.2994)\n",
      "sales_per_hcp_detrended_shift1                          -0.2827                     -0.2511\n",
      "                                                      (-9.5046)                   (-8.9947)\n",
      "sales_per_hcp_detrended_shift2                          -0.1025                     -0.0682\n",
      "                                                      (-3.4075)                   (-2.5139)\n",
      "sales_per_hcp_detrended_shift3                          -0.0709                     -0.0416\n",
      "                                                      (-2.5187)                   (-1.5075)\n",
      "sales_per_hcp_detrended_shift4                          -0.1656                     -0.1419\n",
      "                                                      (-6.0266)                   (-5.8907)\n",
      "sales_per_hcp_detrended_shift5                          -0.3169                     -0.2933\n",
      "                                                      (-13.573)                   (-12.805)\n",
      "sales_per_hcp_detrended_shift6                          -0.1025                     -0.0765\n",
      "                                                      (-3.9989)                   (-3.3695)\n",
      "sales_per_hcp_detrended_shift7                           0.1513                      0.1791\n",
      "                                                       (4.7480)                    (6.1558)\n",
      "sales_per_hcp_detrended_shift8                           0.0406                      0.0586\n",
      "                                                       (1.5097)                    (2.3577)\n",
      "sales_per_hcp_detrended_shift9                           0.0470                      0.0540\n",
      "                                                       (1.4853)                    (1.6653)\n",
      "sales_per_hcp_detrended_shift10                          0.0508                      0.0432\n",
      "                                                       (1.7312)                    (1.4905)\n",
      "=================================== =========================== ===========================\n",
      "Effects                                                  Entity                            \n",
      "-------------------------------------------------------------------------------------------\n",
      "\n",
      "T-stats reported in parentheses\n"
     ]
    }
   ],
   "source": [
    "from linearmodels.panel import compare\n",
    "\n",
    "print(compare({\"FE\": fe_res, \"RE\": re_res}))"
   ]
  },
  {
   "cell_type": "code",
   "execution_count": 381,
   "id": "f5f94e6c-ff56-42a7-aa0c-c6ea4da7156c",
   "metadata": {},
   "outputs": [
    {
     "name": "stdout",
     "output_type": "stream",
     "text": [
      "chi-Squared:47.082850848379884\n",
      "degrees of freedom:14\n",
      "p-Value:1.862748848583052e-05\n"
     ]
    }
   ],
   "source": [
    "import numpy.linalg as la\n",
    "from scipy import stats\n",
    "import numpy as np\n",
    "\n",
    "def hausman(fe, re):\n",
    "    '''\n",
    "    Ho: Random Effects Model\n",
    "    '''\n",
    "    b = fe.params[1:]\n",
    "    B = re.params[1:]\n",
    "    v_b = fe.cov.iloc[1:,1:]\n",
    "    v_B = re.cov.iloc[1:,1:]\n",
    "    df = b[np.abs(b) < 1e8].size\n",
    "    chi2 = np.dot((b - B).T, la.inv(v_b - v_B).dot(b - B)) \n",
    " \n",
    "    pval = stats.chi2.sf(chi2, df)\n",
    "    return chi2, df, pval\n",
    "\n",
    "hausman_results = hausman(fe_res, re_res) \n",
    "print('chi-Squared:' + str(hausman_results[0]))\n",
    "print('degrees of freedom:' + str(hausman_results[1]))\n",
    "print('p-Value:' + str(hausman_results[2]))"
   ]
  },
  {
   "cell_type": "markdown",
   "id": "3eae2738-672b-4dff-945d-253800e80deb",
   "metadata": {},
   "source": [
    "If pvalue is small, then we reject the RE Model"
   ]
  },
  {
   "cell_type": "code",
   "execution_count": 382,
   "id": "29039475-6fee-4de3-9718-3173eebee941",
   "metadata": {},
   "outputs": [
    {
     "name": "stdout",
     "output_type": "stream",
     "text": [
      "['num_cph_visit_1_to_4m_mean', 'num_nocph_visit_1_to_4m_mean']\n"
     ]
    },
    {
     "data": {
      "text/plain": [
       "<matplotlib.legend.Legend at 0x7f6615fafe50>"
      ]
     },
     "execution_count": 382,
     "metadata": {},
     "output_type": "execute_result"
    },
    {
     "data": {
      "image/png": "[encoded data removed]",
      "text/plain": [
       "<Figure size 864x360 with 1 Axes>"
      ]
     },
     "metadata": {
      "needs_background": "light"
     },
     "output_type": "display_data"
    }
   ],
   "source": [
    "zero_feature = features[:2]\n",
    "print(zero_feature)\n",
    "\n",
    "df_asl3 = dfx.copy()\n",
    "df_asl3['fitted_values'] = fe_res.predict(df_asl3[features_to_be_used[0]])\n",
    "df_asl3[zero_feature] = df_asl3[zero_feature].apply(lambda x:x*0)\n",
    "df_asl3['preds_zero'] = fe_res.predict(df_asl3[features_to_be_used[0]])\n",
    "\n",
    "#res.fittedvalues\n",
    "\n",
    "xx = df_asl3.groupby('yyyymm')[['preds_zero', 'fitted_values', \n",
    "                                'sales_per_hcp_trend',\n",
    "                                'sales_per_hcp_season',\n",
    "                                #'sales_per_hcp',\n",
    "                               target]].sum(\n",
    ").reset_index()\n",
    "\n",
    "plt.figure(figsize=(12,5))\n",
    "plt.plot(xx.yyyymm, xx.preds_zero*xx.sales_per_hcp_trend\n",
    "         *xx.sales_per_hcp_season\n",
    "        ,label='zero')\n",
    "plt.plot(xx.yyyymm, xx.fitted_values*xx.sales_per_hcp_trend\n",
    "         *xx.sales_per_hcp_season\n",
    "         ,label='fitted')\n",
    "plt.plot(xx.yyyymm, xx[target]*xx.sales_per_hcp_trend\n",
    "         *xx.sales_per_hcp_season\n",
    "         ,label='true + trend')\n",
    "plt.legend()"
   ]
  },
  {
   "cell_type": "code",
   "execution_count": 379,
   "id": "49c2060e-7007-455b-b372-7097d04d90bd",
   "metadata": {},
   "outputs": [
    {
     "data": {
      "text/plain": [
       "[<matplotlib.lines.Line2D at 0x7f661613ed50>]"
      ]
     },
     "execution_count": 379,
     "metadata": {},
     "output_type": "execute_result"
    },
    {
     "data": {
      "image/png": "[encoded data removed]",
      "text/plain": [
       "<Figure size 864x360 with 1 Axes>"
      ]
     },
     "metadata": {
      "needs_background": "light"
     },
     "output_type": "display_data"
    }
   ],
   "source": [
    "plt.figure(figsize=(12,5))\n",
    "plt.plot(xx.yyyymm, ((xx.fitted_values*xx.sales_per_hcp_trend*xx.sales_per_hcp_season)/\n",
    "                     (xx.preds_zero*xx.sales_per_hcp_trend*xx.sales_per_hcp_season)-1))"
   ]
  },
  {
   "cell_type": "code",
   "execution_count": 380,
   "id": "8a2f8903-27a5-44a6-8a1b-7ff47abcf103",
   "metadata": {},
   "outputs": [
    {
     "name": "stdout",
     "output_type": "stream",
     "text": [
      "0.01446646980589783\n"
     ]
    }
   ],
   "source": [
    "original = xx.fitted_values*xx.sales_per_hcp_trend*xx.sales_per_hcp_season\n",
    "zero = xx.preds_zero*xx.sales_per_hcp_trend*xx.sales_per_hcp_season\n",
    "\n",
    "print(np.sum(original)/np.sum(zero)-1)"
   ]
  },
  {
   "cell_type": "code",
   "execution_count": null,
   "id": "e7dfd6fb-9398-4e7d-8e97-316ee835ffff",
   "metadata": {},
   "outputs": [],
   "source": []
  },
  {
   "cell_type": "code",
   "execution_count": null,
   "id": "14614402-423a-4a1d-94f6-9a16cee64e73",
   "metadata": {},
   "outputs": [],
   "source": []
  },
  {
   "cell_type": "code",
   "execution_count": null,
   "id": "5395eac6-e59a-4f0e-a3be-2ade3c114e0a",
   "metadata": {},
   "outputs": [],
   "source": []
  },
  {
   "cell_type": "code",
   "execution_count": null,
   "id": "3c833031-f8ca-4d16-9de2-2a3f6e10b796",
   "metadata": {},
   "outputs": [],
   "source": []
  },
  {
   "cell_type": "code",
   "execution_count": null,
   "id": "77ea2294-89d9-42c3-a362-4e6ee6cfa177",
   "metadata": {},
   "outputs": [],
   "source": []
  }
 ],
 "metadata": {
  "kernelspec": {
   "display_name": "env_3",
   "language": "python",
   "name": "env_3"
  },
  "language_info": {
   "codemirror_mode": {
    "name": "ipython",
    "version": 3
   },
   "file_extension": ".py",
   "mimetype": "text/x-python",
   "name": "python",
   "nbconvert_exporter": "python",
   "pygments_lexer": "ipython3",
   "version": "3.7.5"
  }
 },
 "nbformat": 4,
 "nbformat_minor": 5
}
