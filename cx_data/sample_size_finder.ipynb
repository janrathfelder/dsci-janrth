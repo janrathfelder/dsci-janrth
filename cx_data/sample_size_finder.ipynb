{
 "cells": [
  {
   "cell_type": "code",
   "execution_count": 71,
   "id": "59100c7a-f883-43ef-b769-44eb6605906e",
   "metadata": {},
   "outputs": [],
   "source": [
    "# load custome module\n",
    "\n",
    "import sample_size_finder"
   ]
  },
  {
   "cell_type": "code",
   "execution_count": 72,
   "id": "f4a4c077-5575-4426-89b8-8b6cdfb8bbda",
   "metadata": {},
   "outputs": [],
   "source": [
    "# instantiate class\n",
    "\n",
    "sz = sample_size_finder.SampleSize()"
   ]
  },
  {
   "cell_type": "code",
   "execution_count": 75,
   "id": "db397413-fb6b-4fe1-8ccb-43030e669954",
   "metadata": {},
   "outputs": [
    {
     "data": {
      "text/plain": [
       "964"
      ]
     },
     "execution_count": 75,
     "metadata": {},
     "output_type": "execute_result"
    }
   ],
   "source": [
    "# find minimum sample size\n",
    "\n",
    "population_size = 10000\n",
    "error_margin = .03\n",
    "\n",
    "sz.find_sample_size(population_size=population_size,\n",
    "                    error_margin=error_margin)"
   ]
  },
  {
   "cell_type": "code",
   "execution_count": null,
   "id": "52a03b7a-4fda-45ea-84af-93050fa17a6c",
   "metadata": {},
   "outputs": [],
   "source": []
  }
 ],
 "metadata": {
  "kernelspec": {
   "display_name": "env_4",
   "language": "python",
   "name": "env_4"
  },
  "language_info": {
   "codemirror_mode": {
    "name": "ipython",
    "version": 3
   },
   "file_extension": ".py",
   "mimetype": "text/x-python",
   "name": "python",
   "nbconvert_exporter": "python",
   "pygments_lexer": "ipython3",
   "version": "3.7.5"
  }
 },
 "nbformat": 4,
 "nbformat_minor": 5
}
